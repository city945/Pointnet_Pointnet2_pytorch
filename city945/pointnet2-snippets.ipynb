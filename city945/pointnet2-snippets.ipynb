{
 "cells": [
  {
   "cell_type": "code",
   "execution_count": 1,
   "metadata": {},
   "outputs": [
    {
     "data": {
      "text/plain": [
       "'pointnet_cls'"
      ]
     },
     "execution_count": 1,
     "metadata": {},
     "output_type": "execute_result"
    }
   ],
   "source": [
    "# 添加路径到环境变量 Path，配合 importlib，将目录作为包\n",
    "import os, sys\n",
    "import importlib\n",
    "# BASE_DIR = os.path.dirname(os.path.abspath(__file__)) # ipynb not support\n",
    "BASE_DIR = os.getcwd()\n",
    "ROOT_DIR = os.path.dirname(BASE_DIR)\n",
    "sys.path.append(os.path.join(ROOT_DIR, 'models'))\n",
    "model = importlib.import_module('pointnet_cls')\n",
    "model.__name__"
   ]
  },
  {
   "cell_type": "code",
   "execution_count": 2,
   "metadata": {},
   "outputs": [],
   "source": [
    "# 创建目录\n",
    "from pathlib import Path\n",
    "exp_dir = Path('../log/')\n",
    "exp_dir.mkdir(exist_ok=True)"
   ]
  },
  {
   "cell_type": "code",
   "execution_count": 3,
   "metadata": {},
   "outputs": [
    {
     "name": "stdout",
     "output_type": "stream",
     "text": [
      "start...\n"
     ]
    }
   ],
   "source": [
    "# 日志，同时存文件与打印\n",
    "import logging\n",
    "logger = logging.getLogger(\"Model\")\n",
    "logger.setLevel(logging.INFO)\n",
    "formatter = logging.Formatter('%(asctime)s - %(name)s - %(levelname)s - %(message)s') # 每句日志的前缀\n",
    "# file_handler = logging.FileHandler(f'test.txt')\n",
    "# file_handler.setLevel(logging.INFO)\n",
    "# file_handler.setFormatter(formatter)\n",
    "# logger.addHandler(file_handler)\n",
    "logger.addHandler(logging.StreamHandler(sys.stdout)) # 同时输出到终端\n",
    "logger.info('start...')"
   ]
  },
  {
   "cell_type": "code",
   "execution_count": 14,
   "metadata": {},
   "outputs": [
    {
     "name": "stdout",
     "output_type": "stream",
     "text": [
      "tensor(2.5000)\n",
      "tensor([[ 1,  2,  3,  7,  8,  9],\n",
      "        [ 4,  5,  6, 10, 11, 12]])\n"
     ]
    }
   ],
   "source": [
    "# API 测试\n",
    "import torch.nn.functional as F\n",
    "import torch\n",
    "pred = torch.tensor([[-1.0,-2,-3],[-1,-2,-3]])\n",
    "target = torch.tensor([1, 2])\n",
    "loss = F.nll_loss(pred, target)\n",
    "print(loss)\n",
    "\n",
    "grouped_points = torch.tensor([[1,2,3], [4,5,6]])\n",
    "grouped_xyz = torch.tensor([[7,8,9], [10,11,12]])\n",
    "grouped_points = torch.cat([grouped_points, grouped_xyz], dim=-1)\n",
    "print(grouped_points)"
   ]
  },
  {
   "cell_type": "code",
   "execution_count": null,
   "metadata": {},
   "outputs": [],
   "source": []
  }
 ],
 "metadata": {
  "kernelspec": {
   "display_name": "base",
   "language": "python",
   "name": "python3"
  },
  "language_info": {
   "codemirror_mode": {
    "name": "ipython",
    "version": 3
   },
   "file_extension": ".py",
   "mimetype": "text/x-python",
   "name": "python",
   "nbconvert_exporter": "python",
   "pygments_lexer": "ipython3",
   "version": "3.7.11"
  },
  "orig_nbformat": 4
 },
 "nbformat": 4,
 "nbformat_minor": 2
}
